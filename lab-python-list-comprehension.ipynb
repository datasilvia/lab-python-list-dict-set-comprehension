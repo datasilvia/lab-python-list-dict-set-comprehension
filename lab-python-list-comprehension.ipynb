{
 "cells": [
  {
   "cell_type": "markdown",
   "id": "25d7736c-ba17-4aff-b6bb-66eba20fbf4e",
   "metadata": {},
   "source": [
    "# Lab | List, Dict and Set Comprehension"
   ]
  },
  {
   "cell_type": "markdown",
   "id": "7dd3cbde-675a-4b81-92c3-f728846dbe06",
   "metadata": {},
   "source": [
    "## Exercise: Managing Customer Orders Optimized with Comprehension"
   ]
  },
  {
   "cell_type": "markdown",
   "id": "5d500160-2fb7-4777-b5e4-09d45ebaf328",
   "metadata": {},
   "source": [
    "In the previous exercise, you developed a program to manage customer orders and inventory. Now, let's take it a step further and incorporate comprehension into your code.\n",
    "\n",
    "Follow the steps below to complete the exercise:\n",
    "\n",
    "1. Review your code from the previous exercise and identify areas where you can apply comprehension to simplify and streamline your code. \n",
    "\n",
    "    - *Hint: Apply it to initialize inventory, updating the inventory and printing the updated inventory.*\n",
    "    \n",
    "    - For example, in initializing the inventory, we could have:\n",
    "    \n",
    "        ```python\n",
    "        def initialize_inventory(products):\n",
    "            inventory = {product: int(input(f\"Enter the quantity of {product}s available: \")) for product in products}\n",
    "            return inventory\n",
    "\n",
    "        ```\n",
    "<br>\n",
    "    \n",
    "    \n",
    "2. Modify the function get_customer_orders so it prompts the user to enter the number of customer orders and gathers the product names using a loop and user input. Use comprehension.\n",
    "\n",
    "3. Add a new function to calculate the total price of the customer order. For each product in customer_orders, prompt the user to enter the price of that product. Use comprehension to calculate the total price. Note: assume that the user can only have 1 unit of each product.\n",
    "\n",
    "4. Modify the update_inventory function to remove the product from the inventory if its quantity becomes zero after fulfilling the customer orders. Use comprehension to filter out the products with a quantity of zero from the inventory.\n",
    "\n",
    "5. Print the total price of the customer order.\n",
    "\n",
    "Your code should produce output similar to the following:\n",
    "\n",
    "```python\n",
    "Enter the quantity of t-shirts available:  5\n",
    "Enter the quantity of mugs available:  4\n",
    "Enter the quantity of hats available:  3\n",
    "Enter the quantity of books available:  2\n",
    "Enter the quantity of keychains available:  1\n",
    "Enter the number of customer orders:  2\n",
    "Enter the name of a product that a customer wants to order:  hat\n",
    "Enter the name of a product that a customer wants to order:  keychain\n",
    "\n",
    "Order Statistics:\n",
    "Total Products Ordered: 2\n",
    "Percentage of Unique Products Ordered: 40.0\n",
    "\n",
    "Updated Inventory:\n",
    "t-shirt: 5\n",
    "mug: 4\n",
    "hat: 2\n",
    "book: 2\n",
    "Enter the price of keychain:  5\n",
    "Enter the price of hat:  10\n",
    "Total Price: 15.0\n",
    "\n",
    "```\n"
   ]
  },
  {
   "cell_type": "code",
   "execution_count": 1,
   "id": "8d5060b5",
   "metadata": {},
   "outputs": [],
   "source": [
    "\n",
    "# Initializing the inventory\n",
    "\n",
    "products = [\"t-shirt\", \"mug\", \"hat\", \"book\", \"keychain\"]\n",
    "\n",
    "def initialize_inventory(products):\n",
    "  inventory={product: int(input(f\"Please enter the quantity of {product} available in the inventory\")) for product in products}\n",
    "  return inventory\n",
    "\n",
    "inventory = initialize_inventory(products)\n",
    "\n"
   ]
  },
  {
   "cell_type": "code",
   "execution_count": 2,
   "id": "80b927ba",
   "metadata": {},
   "outputs": [
    {
     "name": "stdout",
     "output_type": "stream",
     "text": [
      "{'t-shirt': 22, 'mug': 33, 'hat': 44, 'book': 55, 'keychain': 66}\n"
     ]
    }
   ],
   "source": [
    "print(inventory)"
   ]
  },
  {
   "cell_type": "code",
   "execution_count": 3,
   "id": "5f45c609",
   "metadata": {},
   "outputs": [
    {
     "name": "stdout",
     "output_type": "stream",
     "text": [
      "casa is either unavailable or already ordered\n",
      "gato is either unavailable or already ordered\n",
      "mug is either unavailable or already ordered\n",
      "Customer Orders: {'hat', 'mug', 'keychain'}\n"
     ]
    }
   ],
   "source": [
    "# Getting customer orders\n",
    "\n",
    "customer_orders = set()\n",
    "\n",
    "def get_customer_orders():\n",
    "    \n",
    "    # How many products does the customer want to order?\n",
    "    number_of_customer_orders = int(input(\"How many products do you want to order?\"))\n",
    "\n",
    "    while len(customer_orders) < number_of_customer_orders:\n",
    "   \n",
    "        #Taking the customer orders\n",
    "        order = input(\"What product do you want to order? \")\n",
    "\n",
    "        #Using comprehension to verify if the product exist in our list of products, and if it is already ordered\n",
    "        [customer_orders.add(order) if order in products and order not in customer_orders else print(f\"{order} is either unavailable or already ordered\")]\n",
    "    return customer_orders\n",
    "\n",
    "\n",
    "customer_orders = get_customer_orders()\n",
    "print(\"Customer Orders:\", customer_orders)\n"
   ]
  },
  {
   "cell_type": "code",
   "execution_count": 4,
   "id": "21df56ec",
   "metadata": {},
   "outputs": [
    {
     "name": "stdout",
     "output_type": "stream",
     "text": [
      "The prices for the products ordered are: {'hat': 18, 'mug': 12, 'keychain': 9}\n",
      "The total price of the customer order is 39 €\n"
     ]
    }
   ],
   "source": [
    "# Calculating the total price of the customer order, assuming that the user can only have 1 unit of each product.\n",
    "\n",
    "def total_price_of_customer_order():\n",
    "    \n",
    "        prices_dict = {product: int(input(f\"Please enter the price of {product} \")) for product in customer_orders}\n",
    "        prices = prices_dict.values()\n",
    "        total_price = sum(prices)\n",
    "        # To see how much does it cost each product ordered:\n",
    "        print (f\"The prices for the products ordered are: {prices_dict}\")\n",
    "        return total_price\n",
    "\n",
    "the_total_price = total_price_of_customer_order()\n",
    "print(f\"The total price of the customer order is {the_total_price} €\" )\n",
    "\n"
   ]
  },
  {
   "cell_type": "code",
   "execution_count": 5,
   "id": "00fe2e52",
   "metadata": {},
   "outputs": [
    {
     "name": "stdout",
     "output_type": "stream",
     "text": [
      "{'mug': 32, 'hat': 43, 'keychain': 65}\n"
     ]
    }
   ],
   "source": [
    "#Update_inventory function to remove the product from the inventory if its quantity becomes zero after fulfilling the customer orders. \n",
    "\n",
    "def update_inventory(customer_orders, inventory):\n",
    "\n",
    " inventory={product: quantity -1 for product, quantity in inventory.items() if product in customer_orders and quantity>0}\n",
    " return inventory\n",
    "\n",
    "   \n",
    "inventory = update_inventory(customer_orders,inventory)\n",
    "print (inventory)\n",
    "\n"
   ]
  },
  {
   "cell_type": "code",
   "execution_count": 6,
   "id": "18309599",
   "metadata": {},
   "outputs": [
    {
     "name": "stdout",
     "output_type": "stream",
     "text": [
      "The total of products ordered is: 3\n",
      "Total available products in inventory: 140\n",
      "Percentage of products ordered: 2.14%\n"
     ]
    }
   ],
   "source": [
    "# Statistics\n",
    "\n",
    "def calculate_order_statistics(customer_orders, products):\n",
    "    total_products_ordered = len(customer_orders)\n",
    "    print(f\"The total of products ordered is: {total_products_ordered}\")\n",
    "\n",
    "    cantidad = []\n",
    "    for order in customer_orders:\n",
    "      cantidad.append(inventory[order]) \n",
    "\n",
    "    total_available_products = sum(inventory.values())\n",
    "    print(f\"Total available products in inventory: {total_available_products}\")\n",
    "\n",
    "    percentage_ordered = ((total_products_ordered/total_available_products) * 100)\n",
    "    print(f\"Percentage of products ordered: {percentage_ordered:.2f}%\")\n",
    "\n",
    "    return (total_products_ordered, percentage_ordered)\n",
    "\n",
    "\n",
    "order_statistics = (calculate_order_statistics(customer_orders, products))\n",
    "\n",
    "\n"
   ]
  },
  {
   "cell_type": "code",
   "execution_count": 7,
   "id": "4dc1b94e",
   "metadata": {},
   "outputs": [
    {
     "name": "stdout",
     "output_type": "stream",
     "text": [
      "The initial inventory is {'t-shirt': 22, 'mug': 33, 'hat': 44, 'book': 55, 'keychain': 3}\n",
      "mug is either unavailable or already ordered\n",
      "hat is either unavailable or already ordered\n",
      "The prices for the products ordered are: {'hat': 18, 'mug': 9, 't-shirt': 25, 'keychain': 11}\n",
      "The total price of the customer order is 63 €\n",
      "The updated inventory is: {'t-shirt': 21, 'mug': 32, 'hat': 43, 'keychain': 2}\n",
      "The total of products ordered is: 4\n",
      "Total available products in inventory: 98\n",
      "Percentage of products ordered: 4.08%\n"
     ]
    }
   ],
   "source": [
    "inventory = initialize_inventory(products)\n",
    "print(f\"The initial inventory is {inventory}\")\n",
    "customer_orders = get_customer_orders()\n",
    "the_total_price = total_price_of_customer_order()\n",
    "print(f\"The total price of the customer order is {the_total_price} €\" )\n",
    "inventory = update_inventory(customer_orders,inventory)\n",
    "print (f\"The updated inventory is: {inventory}\")\n",
    "order_statistics = (calculate_order_statistics(customer_orders, products))"
   ]
  }
 ],
 "metadata": {
  "kernelspec": {
   "display_name": "Python 3 (ipykernel)",
   "language": "python",
   "name": "python3"
  },
  "language_info": {
   "codemirror_mode": {
    "name": "ipython",
    "version": 3
   },
   "file_extension": ".py",
   "mimetype": "text/x-python",
   "name": "python",
   "nbconvert_exporter": "python",
   "pygments_lexer": "ipython3",
   "version": "3.12.4"
  }
 },
 "nbformat": 4,
 "nbformat_minor": 5
}
